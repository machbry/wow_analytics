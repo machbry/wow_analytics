{
 "cells": [
  {
   "cell_type": "code",
   "execution_count": 1,
   "metadata": {
    "collapsed": true
   },
   "outputs": [],
   "source": [
    "import wlogs as wl\n",
    "import luadata"
   ]
  },
  {
   "cell_type": "code",
   "execution_count": 2,
   "outputs": [],
   "source": [
    "games_settings = wl.game_settings_from_json()\n",
    "bistooltips_wh_items_path = games_settings.installation_path / f\"_{games_settings.version}_\" / \"Interface\" / \"Addons\" / \"Bistooltip\" / \"Bistooltip_wh_items.lua\"\n",
    "assert bistooltips_wh_items_path.exists() # assert that wow game and bistooltip addon are installed on expected version of the game\n",
    "# todo : set Bistooltip_wh_items.lua as a conf file : to be independent on game installation)"
   ],
   "metadata": {
    "collapsed": false
   }
  },
  {
   "cell_type": "code",
   "execution_count": 3,
   "outputs": [],
   "source": [
    "bis_list_container = wl.BisListContainer()"
   ],
   "metadata": {
    "collapsed": false
   }
  },
  {
   "cell_type": "code",
   "execution_count": 4,
   "outputs": [],
   "source": [
    "with open(bistooltips_wh_items_path, 'r') as f:\n",
    "    items = f.readlines()[1::]\n",
    "\n",
    "items_cleaned = []\n",
    "nb_items = len(items)\n",
    "for i, item in enumerate(items):\n",
    "    start = '{' if i == 0 else ''\n",
    "    end = \"}\" if i == nb_items-1 else \", \"\n",
    "    item_cleaned = item.replace('Bistooltip_wh_items', start).replace(\"\\n\", end)\n",
    "    items_cleaned.append(item_cleaned)\n",
    "\n",
    "bistooltips_wh_items_cleaned_path = wl.DATA_DIRECTORY / \"Bistooltip_wh_items_cleaned.lua\"\n",
    "with open(bistooltips_wh_items_cleaned_path, 'w') as f:\n",
    "    f.writelines(items_cleaned)\n",
    "\n",
    "data = luadata.read(bistooltips_wh_items_cleaned_path)"
   ],
   "metadata": {
    "collapsed": false
   }
  },
  {
   "cell_type": "code",
   "execution_count": 5,
   "outputs": [],
   "source": [
    "bis_list_container.store(data)"
   ],
   "metadata": {
    "collapsed": false
   }
  }
 ],
 "metadata": {
  "kernelspec": {
   "display_name": "Python 3",
   "language": "python",
   "name": "python3"
  },
  "language_info": {
   "codemirror_mode": {
    "name": "ipython",
    "version": 2
   },
   "file_extension": ".py",
   "mimetype": "text/x-python",
   "name": "python",
   "nbconvert_exporter": "python",
   "pygments_lexer": "ipython2",
   "version": "2.7.6"
  }
 },
 "nbformat": 4,
 "nbformat_minor": 0
}

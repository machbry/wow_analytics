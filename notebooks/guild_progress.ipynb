{
 "cells": [
  {
   "cell_type": "code",
   "execution_count": 1,
   "metadata": {
    "collapsed": true,
    "ExecuteTime": {
     "end_time": "2023-07-06T10:08:33.128065600Z",
     "start_time": "2023-07-06T10:08:30.971748Z"
    }
   },
   "outputs": [],
   "source": [
    "import wlogs as wl\n",
    "import pandas as pd\n",
    "from datetime import datetime"
   ]
  },
  {
   "cell_type": "code",
   "execution_count": 2,
   "outputs": [],
   "source": [
    "report_data_container = wl.ReportDataContainer()"
   ],
   "metadata": {
    "collapsed": false,
    "ExecuteTime": {
     "end_time": "2023-07-06T10:08:33.143066500Z",
     "start_time": "2023-07-06T10:08:33.131065800Z"
    }
   }
  },
  {
   "cell_type": "code",
   "execution_count": 3,
   "outputs": [],
   "source": [
    "def convert_time(epoch_time_ms):\n",
    "    return datetime.fromtimestamp(float(epoch_time_ms)/1000)\n",
    "\n",
    "\n",
    "def convert_time_str(epoch_time_ms, fmt = \"%d/%m/%Y %H:%M:%S\"):\n",
    "    return datetime.fromtimestamp(float(epoch_time_ms)/1000).strftime(fmt)"
   ],
   "metadata": {
    "collapsed": false,
    "ExecuteTime": {
     "end_time": "2023-07-06T10:08:33.206595300Z",
     "start_time": "2023-07-06T10:08:33.199595700Z"
    }
   }
  },
  {
   "cell_type": "code",
   "execution_count": 4,
   "outputs": [],
   "source": [
    "def compose_report_data_df(report_data: dict):\n",
    "    report_code = report_data['code']\n",
    "\n",
    "    actors = pd.DataFrame(report_data['masterData']['actors']).set_index(keys='id').rename(columns={'name': 'player_name'})\n",
    "    actors = actors[actors['subType']!='Unknown']\n",
    "    actors['report_code'] = report_code\n",
    "\n",
    "    fights = pd.DataFrame(report_data['fights']).set_index(keys='id').rename(columns={'name': 'boss_name'})\n",
    "    fights = fights[fights['size'].notna()]\n",
    "    fights['report_code'] = report_code\n",
    "\n",
    "    report_data_df = fights.merge(actors, on='report_code')\n",
    "\n",
    "    add_metadata = {'report_date': convert_time_str(report_data['startTime'], fmt = \"%d/%m/%Y\"),\n",
    "                    'report_start': convert_time(report_data['startTime']),\n",
    "                    'report_end': convert_time(report_data['endTime'])}\n",
    "    for key, value in add_metadata.items():\n",
    "        report_data_df[key] = value\n",
    "\n",
    "    return report_data_df"
   ],
   "metadata": {
    "collapsed": false,
    "ExecuteTime": {
     "end_time": "2023-07-06T10:08:33.207595300Z",
     "start_time": "2023-07-06T10:08:33.200596700Z"
    }
   }
  },
  {
   "cell_type": "code",
   "execution_count": 5,
   "outputs": [],
   "source": [
    "reports_data = report_data_container.extract()\n",
    "\n",
    "reports_df = []\n",
    "for report_data in reports_data.values():\n",
    "    report_data_df = compose_report_data_df(report_data)\n",
    "    reports_df.append(report_data_df)\n",
    "\n",
    "progress_data = pd.concat(reports_df)"
   ],
   "metadata": {
    "collapsed": false,
    "ExecuteTime": {
     "end_time": "2023-07-06T10:08:35.569716700Z",
     "start_time": "2023-07-06T10:08:33.200596700Z"
    }
   }
  },
  {
   "cell_type": "code",
   "execution_count": 6,
   "outputs": [],
   "source": [
    "ulduar_boss_hm = ['Flame Leviathan', 'XT-002 Deconstructor', 'The Assembly of Iron', 'Hodir', 'Thorim', 'Freya', 'Mimiron', 'General Vezax', 'Yogg-Saron', 'Algalon the Observer']\n",
    "\n",
    "raiders = ['Åkodah', 'Bobsatan', 'Cheekygirl', 'Drep', 'Frallak', 'Gogø', 'Krohl', 'Madess', 'Melvira', 'Memø', 'Padreleon', 'Pahâthata', 'Selbie', 'Selemental', 'Sylhastrasz', 'Tonsurédeouf']"
   ],
   "metadata": {
    "collapsed": false,
    "ExecuteTime": {
     "end_time": "2023-07-06T10:08:35.605235Z",
     "start_time": "2023-07-06T10:08:35.571717500Z"
    }
   }
  },
  {
   "cell_type": "code",
   "execution_count": 7,
   "outputs": [],
   "source": [
    "progress_ulduar_10HM = progress_data[(progress_data['kill'] == True) &\n",
    "                                     (progress_data['size'] == 10) &\n",
    "                                     ((progress_data['boss_name']=='Algalon the Observer') | ((~progress_data['hardModeLevel'].isna()) & ((progress_data['hardModeLevel'] >= 3) | ((progress_data['report_code']=='L1hbC8dX2c7wDKx6') & (progress_data['boss_name']=='Hodir'))))) & (progress_data['boss_name'].isin(ulduar_boss_hm)) & (progress_data['player_name'].isin(raiders))].groupby(by=['boss_name', 'player_name'])['report_start'].min().reset_index()"
   ],
   "metadata": {
    "collapsed": false,
    "ExecuteTime": {
     "end_time": "2023-07-06T10:08:35.655231200Z",
     "start_time": "2023-07-06T10:08:35.602231800Z"
    }
   }
  },
  {
   "cell_type": "code",
   "execution_count": 8,
   "outputs": [],
   "source": [
    "boss_killed = progress_ulduar_10HM['boss_name'].unique().tolist()\n",
    "boss_killed_ordered = [boss for boss in ulduar_boss_hm if boss in boss_killed]\n",
    "\n",
    "progress_ulduar_10HM['report_start'] = progress_ulduar_10HM['report_start'].dt.strftime(\"%d/%m/%Y\")\n",
    "first_kill_ulduar_10HM = progress_ulduar_10HM.pivot(index='player_name', columns='boss_name', values='report_start')[boss_killed_ordered]"
   ],
   "metadata": {
    "collapsed": false,
    "ExecuteTime": {
     "end_time": "2023-07-06T10:08:35.682292700Z",
     "start_time": "2023-07-06T10:08:35.649231200Z"
    }
   }
  },
  {
   "cell_type": "code",
   "execution_count": 9,
   "outputs": [],
   "source": [
    "first_kill_ulduar_10HM.to_csv(wl.TEMP_DIRECTORY / \"first_kill_ulduar_10HM.csv\")"
   ],
   "metadata": {
    "collapsed": false,
    "ExecuteTime": {
     "end_time": "2023-07-06T10:08:35.700819900Z",
     "start_time": "2023-07-06T10:08:35.684292300Z"
    }
   }
  },
  {
   "cell_type": "code",
   "execution_count": 10,
   "outputs": [
    {
     "data": {
      "text/plain": "'\\n{\"id\": 26, \"name\": \"XT-002 Deconstructor\", \"difficulty\": 3, \"encounterID\": 747, \"size\": 10, \"hardModeLevel\": 4, \"startTime\": 4369811, \"endTime\": 4541502, \"kill\": true, \"bossPercentage\": 0.0100, \"lastPhase\": 0, \"averageItemLevel\": 221.89999389648438}, {\"id\": 27, \"name\": \"The Assembly of Iron\", \"difficulty\": 3, \"encounterID\": 748, \"size\": 10, \"hardModeLevel\": 4, \"startTime\": 4369811, \"endTime\": 4541502, \"kill\": true, \"bossPercentage\": 0.0000, \"lastPhase\": 3, \"averageItemLevel\": 221.89999389648438}\\n'"
     },
     "execution_count": 10,
     "metadata": {},
     "output_type": "execute_result"
    }
   ],
   "source": [
    "\"Logs manquants : xa1vWmtHRZBqycgQ\"\n",
    "\n",
    "\"\"\"\n",
    "{\"id\": 26, \"name\": \"XT-002 Deconstructor\", \"difficulty\": 3, \"encounterID\": 747, \"size\": 10, \"hardModeLevel\": 4, \"startTime\": 4369811, \"endTime\": 4541502, \"kill\": true, \"bossPercentage\": 0.0100, \"lastPhase\": 0, \"averageItemLevel\": 221.89999389648438}, {\"id\": 27, \"name\": \"The Assembly of Iron\", \"difficulty\": 3, \"encounterID\": 748, \"size\": 10, \"hardModeLevel\": 4, \"startTime\": 4369811, \"endTime\": 4541502, \"kill\": true, \"bossPercentage\": 0.0000, \"lastPhase\": 3, \"averageItemLevel\": 221.89999389648438}\n",
    "\"\"\""
   ],
   "metadata": {
    "collapsed": false,
    "ExecuteTime": {
     "end_time": "2023-07-06T10:08:35.725815800Z",
     "start_time": "2023-07-06T10:08:35.696816300Z"
    }
   }
  },
  {
   "cell_type": "code",
   "execution_count": 11,
   "outputs": [
    {
     "data": {
      "text/plain": "'\\n{\"id\": 26, \"name\": \"XT-002 Deconstructor\", \"difficulty\": 3, \"encounterID\": 747, \"size\": 10, \"hardModeLevel\": 4, \"startTime\": 4369811, \"endTime\": 4541502, \"kill\": true, \"bossPercentage\": 0.0100, \"lastPhase\": 0, \"averageItemLevel\": 221.89999389648438}, {\"id\": 27, \"name\": \"The Assembly of Iron\", \"difficulty\": 3, \"encounterID\": 748, \"size\": 10, \"hardModeLevel\": 4, \"startTime\": 4369811, \"endTime\": 4541502, \"kill\": true, \"bossPercentage\": 0.0000, \"lastPhase\": 3, \"averageItemLevel\": 221.89999389648438}\\n'"
     },
     "execution_count": 11,
     "metadata": {},
     "output_type": "execute_result"
    }
   ],
   "source": [
    "\"Logs manquants : xa1vWmtHRZBqycgQ\"\n",
    "\n",
    "\"\"\"\n",
    "{\"id\": 26, \"name\": \"XT-002 Deconstructor\", \"difficulty\": 3, \"encounterID\": 747, \"size\": 10, \"hardModeLevel\": 4, \"startTime\": 4369811, \"endTime\": 4541502, \"kill\": true, \"bossPercentage\": 0.0100, \"lastPhase\": 0, \"averageItemLevel\": 221.89999389648438}, {\"id\": 27, \"name\": \"The Assembly of Iron\", \"difficulty\": 3, \"encounterID\": 748, \"size\": 10, \"hardModeLevel\": 4, \"startTime\": 4369811, \"endTime\": 4541502, \"kill\": true, \"bossPercentage\": 0.0000, \"lastPhase\": 3, \"averageItemLevel\": 221.89999389648438}\n",
    "\"\"\""
   ],
   "metadata": {
    "collapsed": false,
    "ExecuteTime": {
     "end_time": "2023-07-06T10:08:35.768248Z",
     "start_time": "2023-07-06T10:08:35.725815800Z"
    }
   }
  }
 ],
 "metadata": {
  "kernelspec": {
   "display_name": "Python 3",
   "language": "python",
   "name": "python3"
  },
  "language_info": {
   "codemirror_mode": {
    "name": "ipython",
    "version": 2
   },
   "file_extension": ".py",
   "mimetype": "text/x-python",
   "name": "python",
   "nbconvert_exporter": "python",
   "pygments_lexer": "ipython2",
   "version": "2.7.6"
  }
 },
 "nbformat": 4,
 "nbformat_minor": 0
}

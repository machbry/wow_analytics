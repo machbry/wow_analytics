{
 "cells": [
  {
   "cell_type": "code",
   "execution_count": 1,
   "metadata": {
    "collapsed": true
   },
   "outputs": [],
   "source": [
    "import wlogs as wl\n",
    "import pandas as pd\n",
    "from datetime import datetime, timedelta"
   ]
  },
  {
   "cell_type": "code",
   "execution_count": 2,
   "outputs": [],
   "source": [
    "def convert_time(epoch_time_ms):\n",
    "    return datetime.fromtimestamp(float(epoch_time_ms)/1000)\n",
    "\n",
    "\n",
    "def convert_time_str(epoch_time_ms, fmt = \"%d/%m/%Y %H:%M:%S\"):\n",
    "    return datetime.fromtimestamp(float(epoch_time_ms)/1000).strftime(fmt)"
   ],
   "metadata": {
    "collapsed": false
   }
  },
  {
   "cell_type": "code",
   "execution_count": 3,
   "outputs": [],
   "source": [
    "def compose_report_data_df(report_data: dict):\n",
    "    report_code = report_data['code']\n",
    "\n",
    "    actors = pd.DataFrame(report_data['masterData']['actors']).set_index(keys='id').rename(columns={'name': 'player_name'})\n",
    "    actors = actors[actors['subType']!='Unknown']\n",
    "    actors['report_code'] = report_code\n",
    "\n",
    "    fights = pd.DataFrame(report_data['fights']).set_index(keys='id').rename(columns={'name': 'boss_name'})\n",
    "    fights = fights[fights['size'].notna()]\n",
    "    fights['report_code'] = report_code\n",
    "\n",
    "    report_data_df = fights.merge(actors, on='report_code')\n",
    "\n",
    "    add_metadata = {'report_date': convert_time_str(report_data['startTime'], fmt = \"%d/%m/%Y\"),\n",
    "                    'report_start': convert_time(report_data['startTime']),\n",
    "                    'report_end': convert_time(report_data['endTime'])}\n",
    "    for key, value in add_metadata.items():\n",
    "        report_data_df[key] = value\n",
    "\n",
    "    return report_data_df"
   ],
   "metadata": {
    "collapsed": false
   }
  },
  {
   "cell_type": "code",
   "execution_count": 4,
   "outputs": [
    {
     "name": "stderr",
     "output_type": "stream",
     "text": [
      "C:\\Users\\matth\\AppData\\Local\\Temp\\ipykernel_43452\\685193825.py:8: FutureWarning: In a future version, object-dtype columns with all-bool values will not be included in reductions with bool_only=True. Explicitly cast to bool dtype instead.\n",
      "  progress_data = pd.concat(reports_df)\n"
     ]
    }
   ],
   "source": [
    "reports_data = wl.load_reports_data()\n",
    "\n",
    "reports_df = []\n",
    "for report_data in reports_data.values():\n",
    "    report_data_df = compose_report_data_df(report_data)\n",
    "    reports_df.append(report_data_df)\n",
    "\n",
    "progress_data = pd.concat(reports_df)"
   ],
   "metadata": {
    "collapsed": false
   }
  },
  {
   "cell_type": "code",
   "execution_count": 5,
   "outputs": [],
   "source": [
    "ulduar_boss_hm = ['Flame Leviathan', 'XT-002 Deconstructor', 'The Assembly of Iron', 'Hodir', 'Thorim', 'Freya', 'Mimiron', 'General Vezax', 'Yogg-Saron']\n",
    "\n",
    "raiders = ['Åkodah', 'Arkye', 'Atargatis', 'Bobsatan', 'Codd', 'Cynyancat', 'Drep', 'Ehunkel', 'Eskablip', 'Frallak', 'Gogø', 'Gymble', 'Kekozolives', 'Kienlim', 'Krohl', 'Landrîî', 'Madess', 'Melvira', 'Memø', 'Narn', 'Neandis', 'Oréliana', 'Padreleon', 'Pahâthata', 'Sarmath', 'Selbie', 'Selemental', 'Sharigan', 'Takamaka', 'Teraxio', 'Tonsurédeouf', 'Urgoz', 'Vrôum', 'Xargøs']"
   ],
   "metadata": {
    "collapsed": false
   }
  },
  {
   "cell_type": "code",
   "execution_count": 6,
   "outputs": [],
   "source": [
    "progress_ulduar_10HM = progress_data[(progress_data['kill'] == True) & (progress_data['size'] == 10) & (~progress_data['hardModeLevel'].isna()) & ((progress_data['hardModeLevel'] >= 3) | ((progress_data['report_code']=='L1hbC8dX2c7wDKx6') & (progress_data['boss_name']=='Hodir'))) & (progress_data['boss_name'].isin(ulduar_boss_hm)) & (progress_data['player_name'].isin(raiders))].groupby(by=['boss_name', 'player_name'])['report_start'].min().reset_index()"
   ],
   "metadata": {
    "collapsed": false
   }
  },
  {
   "cell_type": "code",
   "execution_count": 7,
   "outputs": [],
   "source": [
    "boss_killed = progress_ulduar_10HM['boss_name'].unique().tolist()\n",
    "boss_killed_ordered = [boss for boss in ulduar_boss_hm if boss in boss_killed]\n",
    "\n",
    "progress_ulduar_10HM['report_start'] = progress_ulduar_10HM['report_start'].dt.strftime(\"%d/%m/%Y\")\n",
    "first_kill_ulduar_10HM = progress_ulduar_10HM.pivot(index='player_name', columns='boss_name', values='report_start')[boss_killed_ordered]"
   ],
   "metadata": {
    "collapsed": false
   }
  },
  {
   "cell_type": "code",
   "execution_count": 8,
   "outputs": [],
   "source": [
    "wl.save_df_to_csv(first_kill_ulduar_10HM, 'first_kill_ulduar10HM')"
   ],
   "metadata": {
    "collapsed": false
   }
  },
  {
   "cell_type": "code",
   "execution_count": 9,
   "outputs": [
    {
     "data": {
      "text/plain": "'\\n{\"id\": 26, \"name\": \"XT-002 Deconstructor\", \"difficulty\": 3, \"encounterID\": 747, \"size\": 10, \"hardModeLevel\": 4, \"startTime\": 4369811, \"endTime\": 4541502, \"kill\": true, \"bossPercentage\": 0.0100, \"lastPhase\": 0, \"averageItemLevel\": 221.89999389648438}, {\"id\": 27, \"name\": \"The Assembly of Iron\", \"difficulty\": 3, \"encounterID\": 748, \"size\": 10, \"hardModeLevel\": 4, \"startTime\": 4369811, \"endTime\": 4541502, \"kill\": true, \"bossPercentage\": 0.0000, \"lastPhase\": 3, \"averageItemLevel\": 221.89999389648438}\\n'"
     },
     "execution_count": 9,
     "metadata": {},
     "output_type": "execute_result"
    }
   ],
   "source": [
    "\"Logs manquants : xa1vWmtHRZBqycgQ\"\n",
    "\n",
    "\"\"\"\n",
    "{\"id\": 26, \"name\": \"XT-002 Deconstructor\", \"difficulty\": 3, \"encounterID\": 747, \"size\": 10, \"hardModeLevel\": 4, \"startTime\": 4369811, \"endTime\": 4541502, \"kill\": true, \"bossPercentage\": 0.0100, \"lastPhase\": 0, \"averageItemLevel\": 221.89999389648438}, {\"id\": 27, \"name\": \"The Assembly of Iron\", \"difficulty\": 3, \"encounterID\": 748, \"size\": 10, \"hardModeLevel\": 4, \"startTime\": 4369811, \"endTime\": 4541502, \"kill\": true, \"bossPercentage\": 0.0000, \"lastPhase\": 3, \"averageItemLevel\": 221.89999389648438}\n",
    "\"\"\""
   ],
   "metadata": {
    "collapsed": false
   }
  }
 ],
 "metadata": {
  "kernelspec": {
   "display_name": "Python 3",
   "language": "python",
   "name": "python3"
  },
  "language_info": {
   "codemirror_mode": {
    "name": "ipython",
    "version": 2
   },
   "file_extension": ".py",
   "mimetype": "text/x-python",
   "name": "python",
   "nbconvert_exporter": "python",
   "pygments_lexer": "ipython2",
   "version": "2.7.6"
  }
 },
 "nbformat": 4,
 "nbformat_minor": 0
}

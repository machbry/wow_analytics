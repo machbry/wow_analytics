{
 "cells": [
  {
   "cell_type": "code",
   "execution_count": 1,
   "metadata": {
    "collapsed": true
   },
   "outputs": [],
   "source": [
    "import json\n",
    "from pathlib import Path\n",
    "\n",
    "import wlogs as wl"
   ]
  },
  {
   "cell_type": "code",
   "execution_count": 2,
   "outputs": [],
   "source": [
    "GUILD_ID = 505778 #RnW"
   ],
   "metadata": {
    "collapsed": false
   }
  },
  {
   "cell_type": "code",
   "execution_count": 3,
   "outputs": [],
   "source": [
    "client = wl.graphQL_client_from_json(Path('../client_credentials.json'))"
   ],
   "metadata": {
    "collapsed": false
   }
  },
  {
   "cell_type": "code",
   "execution_count": 4,
   "outputs": [],
   "source": [
    "def query_reports_on_page(guild_id, page):\n",
    "    query = \"query {reportData {reports(guildID: \"+str(guild_id)+\", page: \"+str(page)+\") {total per_page current_page from to last_page has_more_pages data{code title startTime endTime segments}}}}\"\n",
    "    return query"
   ],
   "metadata": {
    "collapsed": false
   }
  },
  {
   "cell_type": "code",
   "execution_count": 5,
   "outputs": [],
   "source": [
    "page = 1\n",
    "responses = {}\n",
    "has_more_pages = True\n",
    "while has_more_pages:\n",
    "    responses[page] = client.post(query_reports_on_page(GUILD_ID, page))\n",
    "    has_more_pages = responses[page]['data']['reportData']['reports']['has_more_pages']\n",
    "    page +=1\n",
    "\n",
    "raid_activity_json = []\n",
    "for response in responses.values():\n",
    "    raid_activity_json = raid_activity_json + response['data']['reportData']['reports']['data']\n",
    "\n",
    "with open('../data/rnw_raid_activity.json', 'w', encoding='utf-8') as f:\n",
    "    json.dump(raid_activity_json, f)"
   ],
   "metadata": {
    "collapsed": false
   }
  }
 ],
 "metadata": {
  "kernelspec": {
   "display_name": "Python 3",
   "language": "python",
   "name": "python3"
  },
  "language_info": {
   "codemirror_mode": {
    "name": "ipython",
    "version": 2
   },
   "file_extension": ".py",
   "mimetype": "text/x-python",
   "name": "python",
   "nbconvert_exporter": "python",
   "pygments_lexer": "ipython2",
   "version": "2.7.6"
  }
 },
 "nbformat": 4,
 "nbformat_minor": 0
}

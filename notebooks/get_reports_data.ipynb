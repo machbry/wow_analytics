{
 "cells": [
  {
   "cell_type": "code",
   "execution_count": 1,
   "metadata": {
    "collapsed": true
   },
   "outputs": [],
   "source": [
    "import wlogs as wl"
   ]
  },
  {
   "cell_type": "code",
   "execution_count": 2,
   "outputs": [],
   "source": [
    "guild = wl.GUILD_ID"
   ],
   "metadata": {
    "collapsed": false
   }
  },
  {
   "cell_type": "code",
   "execution_count": 3,
   "outputs": [],
   "source": [
    "latest_reports = wl.load_latest_reports()"
   ],
   "metadata": {
    "collapsed": false
   }
  },
  {
   "cell_type": "code",
   "execution_count": 4,
   "outputs": [
    {
     "data": {
      "text/plain": "                 code                           title      startTime  \\\n0    L1hbC8dX2c7wDKx6     23.02.2023 - Ulduar 10 - G1  1677182861220   \n1    H3wmRpxNq8972bdv       23.02.23 - Ulduar 10 - G2  1677181287072   \n2    zCx6jVvTYhBDqpA3                   Uldu 25 22/02  1677095296459   \n3    njQbaf2GAqMPLdXt                 Ulduar 10 NM+HM  1676928626824   \n4    WLdAV7fm2yk8YGwn  G1 - Try Mimiron HM - 20.02.23  1676924469184   \n..                ...                             ...            ...   \n702  nWck9wthKfaHdQM7                  Ragnaros 13-01  1578947654713   \n703  p2Cyjfcg341zYJhX                 MC - 08/01/2020  1578512452909   \n704  AYmdZQqyB42awJRg                 MC - 08/01/2020  1578513703800   \n705  2c13WPMbwyxJdYqF                 MC - 02/01/2020  1577994100763   \n706  RprPXtVkzqFMZNQc             ONYXIA - 06/01/2020  1578341293004   \n\n           endTime  segments  \n0    1677191519640        13  \n1    1677191539523        22  \n2    1677105075365        53  \n3    1676932219214         4  \n4    1676932394940         3  \n..             ...       ...  \n702  1578951542968        25  \n703  1578523270078        11  \n704  1578523268066        11  \n705  1578004690341        10  \n706  1578342026483         1  \n\n[707 rows x 5 columns]",
      "text/html": "<div>\n<style scoped>\n    .dataframe tbody tr th:only-of-type {\n        vertical-align: middle;\n    }\n\n    .dataframe tbody tr th {\n        vertical-align: top;\n    }\n\n    .dataframe thead th {\n        text-align: right;\n    }\n</style>\n<table border=\"1\" class=\"dataframe\">\n  <thead>\n    <tr style=\"text-align: right;\">\n      <th></th>\n      <th>code</th>\n      <th>title</th>\n      <th>startTime</th>\n      <th>endTime</th>\n      <th>segments</th>\n    </tr>\n  </thead>\n  <tbody>\n    <tr>\n      <th>0</th>\n      <td>L1hbC8dX2c7wDKx6</td>\n      <td>23.02.2023 - Ulduar 10 - G1</td>\n      <td>1677182861220</td>\n      <td>1677191519640</td>\n      <td>13</td>\n    </tr>\n    <tr>\n      <th>1</th>\n      <td>H3wmRpxNq8972bdv</td>\n      <td>23.02.23 - Ulduar 10 - G2</td>\n      <td>1677181287072</td>\n      <td>1677191539523</td>\n      <td>22</td>\n    </tr>\n    <tr>\n      <th>2</th>\n      <td>zCx6jVvTYhBDqpA3</td>\n      <td>Uldu 25 22/02</td>\n      <td>1677095296459</td>\n      <td>1677105075365</td>\n      <td>53</td>\n    </tr>\n    <tr>\n      <th>3</th>\n      <td>njQbaf2GAqMPLdXt</td>\n      <td>Ulduar 10 NM+HM</td>\n      <td>1676928626824</td>\n      <td>1676932219214</td>\n      <td>4</td>\n    </tr>\n    <tr>\n      <th>4</th>\n      <td>WLdAV7fm2yk8YGwn</td>\n      <td>G1 - Try Mimiron HM - 20.02.23</td>\n      <td>1676924469184</td>\n      <td>1676932394940</td>\n      <td>3</td>\n    </tr>\n    <tr>\n      <th>...</th>\n      <td>...</td>\n      <td>...</td>\n      <td>...</td>\n      <td>...</td>\n      <td>...</td>\n    </tr>\n    <tr>\n      <th>702</th>\n      <td>nWck9wthKfaHdQM7</td>\n      <td>Ragnaros 13-01</td>\n      <td>1578947654713</td>\n      <td>1578951542968</td>\n      <td>25</td>\n    </tr>\n    <tr>\n      <th>703</th>\n      <td>p2Cyjfcg341zYJhX</td>\n      <td>MC - 08/01/2020</td>\n      <td>1578512452909</td>\n      <td>1578523270078</td>\n      <td>11</td>\n    </tr>\n    <tr>\n      <th>704</th>\n      <td>AYmdZQqyB42awJRg</td>\n      <td>MC - 08/01/2020</td>\n      <td>1578513703800</td>\n      <td>1578523268066</td>\n      <td>11</td>\n    </tr>\n    <tr>\n      <th>705</th>\n      <td>2c13WPMbwyxJdYqF</td>\n      <td>MC - 02/01/2020</td>\n      <td>1577994100763</td>\n      <td>1578004690341</td>\n      <td>10</td>\n    </tr>\n    <tr>\n      <th>706</th>\n      <td>RprPXtVkzqFMZNQc</td>\n      <td>ONYXIA - 06/01/2020</td>\n      <td>1578341293004</td>\n      <td>1578342026483</td>\n      <td>1</td>\n    </tr>\n  </tbody>\n</table>\n<p>707 rows × 5 columns</p>\n</div>"
     },
     "execution_count": 4,
     "metadata": {},
     "output_type": "execute_result"
    }
   ],
   "source": [
    "latest_reports"
   ],
   "metadata": {
    "collapsed": false
   }
  }
 ],
 "metadata": {
  "kernelspec": {
   "display_name": "Python 3",
   "language": "python",
   "name": "python3"
  },
  "language_info": {
   "codemirror_mode": {
    "name": "ipython",
    "version": 2
   },
   "file_extension": ".py",
   "mimetype": "text/x-python",
   "name": "python",
   "nbconvert_exporter": "python",
   "pygments_lexer": "ipython2",
   "version": "2.7.6"
  }
 },
 "nbformat": 4,
 "nbformat_minor": 0
}

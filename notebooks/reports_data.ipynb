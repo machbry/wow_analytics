{
 "cells": [
  {
   "cell_type": "code",
   "execution_count": 1,
   "metadata": {
    "collapsed": true,
    "ExecuteTime": {
     "end_time": "2023-08-18T10:24:22.536654600Z",
     "start_time": "2023-08-18T10:24:21.607026Z"
    }
   },
   "outputs": [],
   "source": [
    "import wlogs as wl\n",
    "\n",
    "from datetime import datetime, timedelta"
   ]
  },
  {
   "cell_type": "code",
   "execution_count": 2,
   "outputs": [],
   "source": [
    "FROM_DATE = datetime(year=2023, month=1, day=23)"
   ],
   "metadata": {
    "collapsed": false,
    "ExecuteTime": {
     "end_time": "2023-08-18T10:24:22.551455800Z",
     "start_time": "2023-08-18T10:24:22.537654800Z"
    }
   }
  },
  {
   "cell_type": "code",
   "execution_count": 3,
   "outputs": [
    {
     "name": "stdout",
     "output_type": "stream",
     "text": [
      "Access token retrieved.\n"
     ]
    }
   ],
   "source": [
    "guild = wl.GUILD_ID\n",
    "reports_container = wl.ReportsContainer()\n",
    "report_data_container = wl.ReportDataContainer()\n",
    "client = wl.graphQL_client_from_json()"
   ],
   "metadata": {
    "collapsed": false,
    "ExecuteTime": {
     "end_time": "2023-08-18T10:24:23.277027700Z",
     "start_time": "2023-08-18T10:24:22.553456100Z"
    }
   }
  },
  {
   "cell_type": "code",
   "execution_count": 4,
   "outputs": [],
   "source": [
    "reports = reports_container.extract()"
   ],
   "metadata": {
    "collapsed": false,
    "ExecuteTime": {
     "end_time": "2023-08-18T10:24:23.311034100Z",
     "start_time": "2023-08-18T10:24:23.279028200Z"
    }
   }
  },
  {
   "cell_type": "code",
   "execution_count": 5,
   "outputs": [],
   "source": [
    "def convert_time(epoch_time_ms):\n",
    "    return datetime.fromtimestamp(float(epoch_time_ms)/1000)"
   ],
   "metadata": {
    "collapsed": false,
    "ExecuteTime": {
     "end_time": "2023-08-18T10:24:23.317995500Z",
     "start_time": "2023-08-18T10:24:23.295028Z"
    }
   }
  },
  {
   "cell_type": "code",
   "execution_count": 6,
   "outputs": [],
   "source": [
    "def convert_timedelta_in_seconds(delta: timedelta):\n",
    "    return delta.total_seconds()"
   ],
   "metadata": {
    "collapsed": false,
    "ExecuteTime": {
     "end_time": "2023-08-18T10:24:23.325076100Z",
     "start_time": "2023-08-18T10:24:23.311034100Z"
    }
   }
  },
  {
   "cell_type": "code",
   "execution_count": 7,
   "outputs": [],
   "source": [
    "reports['start_time'] = reports['startTime'].apply(convert_time)\n",
    "reports['end_time'] = reports['endTime'].apply(convert_time)\n",
    "reports['duration'] = reports['end_time'] - reports['start_time']\n",
    "\n",
    "reports.drop(columns=['startTime', 'endTime'], inplace=True)\n",
    "\n",
    "reports = reports[(reports['segments'] > 0) & (reports['duration'] > timedelta(hours=0)) & (reports['duration'] < timedelta(hours=5)) & (reports['start_time'] >= FROM_DATE)]\n",
    "\n",
    "reports['duration'] = reports['duration'].apply(convert_timedelta_in_seconds).astype(float)"
   ],
   "metadata": {
    "collapsed": false,
    "ExecuteTime": {
     "end_time": "2023-08-18T10:24:23.341161400Z",
     "start_time": "2023-08-18T10:24:23.326995300Z"
    }
   }
  },
  {
   "cell_type": "code",
   "execution_count": 8,
   "outputs": [
    {
     "data": {
      "text/plain": "119"
     },
     "execution_count": 8,
     "metadata": {},
     "output_type": "execute_result"
    }
   ],
   "source": [
    "reports.to_sql('reports', con=wl.engine, schema='wow', if_exists='replace', index=True)"
   ],
   "metadata": {
    "collapsed": false,
    "ExecuteTime": {
     "end_time": "2023-08-18T10:24:23.498698400Z",
     "start_time": "2023-08-18T10:24:23.340159500Z"
    }
   }
  },
  {
   "cell_type": "code",
   "execution_count": 9,
   "outputs": [],
   "source": [
    "reports_codes = reports['code'].tolist()\n",
    "reports_codes_stored = report_data_container.reports_codes_stored()\n",
    "reports_codes_to_request = [code for code in reports_codes if code not in reports_codes_stored]"
   ],
   "metadata": {
    "collapsed": false,
    "ExecuteTime": {
     "end_time": "2023-08-18T10:24:23.527881700Z",
     "start_time": "2023-08-18T10:24:23.499699Z"
    }
   }
  },
  {
   "cell_type": "code",
   "execution_count": 10,
   "outputs": [],
   "source": [
    "for code in reports_codes_to_request:\n",
    "    report_data_json = wl.query_report(code=code, client=client)['data']['reportData']['report']\n",
    "    report_data_container.store(content=report_data_json, custom_filename=code)"
   ],
   "metadata": {
    "collapsed": false,
    "ExecuteTime": {
     "end_time": "2023-08-18T10:24:23.533862Z",
     "start_time": "2023-08-18T10:24:23.516865300Z"
    }
   }
  }
 ],
 "metadata": {
  "kernelspec": {
   "display_name": "Python 3",
   "language": "python",
   "name": "python3"
  },
  "language_info": {
   "codemirror_mode": {
    "name": "ipython",
    "version": 2
   },
   "file_extension": ".py",
   "mimetype": "text/x-python",
   "name": "python",
   "nbconvert_exporter": "python",
   "pygments_lexer": "ipython2",
   "version": "2.7.6"
  }
 },
 "nbformat": 4,
 "nbformat_minor": 0
}

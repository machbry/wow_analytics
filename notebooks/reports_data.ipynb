{
 "cells": [
  {
   "cell_type": "code",
   "execution_count": 1,
   "metadata": {
    "collapsed": true,
    "ExecuteTime": {
     "end_time": "2023-08-04T09:40:30.184209800Z",
     "start_time": "2023-08-04T09:40:29.723191900Z"
    }
   },
   "outputs": [],
   "source": [
    "import wlogs as wl\n",
    "\n",
    "from datetime import datetime, timedelta"
   ]
  },
  {
   "cell_type": "code",
   "execution_count": 2,
   "outputs": [],
   "source": [
    "FROM_DATE = datetime(year=2023, month=1, day=23)"
   ],
   "metadata": {
    "collapsed": false,
    "ExecuteTime": {
     "end_time": "2023-08-04T09:40:30.199668800Z",
     "start_time": "2023-08-04T09:40:30.187215Z"
    }
   }
  },
  {
   "cell_type": "code",
   "execution_count": 3,
   "outputs": [
    {
     "name": "stdout",
     "output_type": "stream",
     "text": [
      "Access token retrieved.\n"
     ]
    }
   ],
   "source": [
    "guild = wl.GUILD_ID\n",
    "reports_container = wl.ReportsContainer()\n",
    "report_data_container = wl.ReportDataContainer()\n",
    "client = wl.graphQL_client_from_json()"
   ],
   "metadata": {
    "collapsed": false,
    "ExecuteTime": {
     "end_time": "2023-08-04T09:40:30.914059600Z",
     "start_time": "2023-08-04T09:40:30.200575300Z"
    }
   }
  },
  {
   "cell_type": "code",
   "execution_count": 4,
   "outputs": [],
   "source": [
    "reports = reports_container.extract()"
   ],
   "metadata": {
    "collapsed": false,
    "ExecuteTime": {
     "end_time": "2023-08-04T09:40:30.956614Z",
     "start_time": "2023-08-04T09:40:30.916064400Z"
    }
   }
  },
  {
   "cell_type": "code",
   "execution_count": 5,
   "outputs": [],
   "source": [
    "def convert_time(epoch_time_ms):\n",
    "    return datetime.fromtimestamp(float(epoch_time_ms)/1000)"
   ],
   "metadata": {
    "collapsed": false,
    "ExecuteTime": {
     "end_time": "2023-08-04T09:40:30.963590300Z",
     "start_time": "2023-08-04T09:40:30.931919100Z"
    }
   }
  },
  {
   "cell_type": "code",
   "execution_count": 6,
   "outputs": [],
   "source": [
    "reports['start'] = reports['startTime'].apply(convert_time)\n",
    "reports['end'] = reports['endTime'].apply(convert_time)\n",
    "reports['duration'] = reports['end'] - reports['start']\n",
    "\n",
    "reports = reports[(reports['segments'] > 0) & (reports['duration'] > timedelta(hours=0)) & (reports['duration'] < timedelta(hours=5)) & (reports['start'] >= FROM_DATE)]"
   ],
   "metadata": {
    "collapsed": false,
    "ExecuteTime": {
     "end_time": "2023-08-04T09:40:30.964616600Z",
     "start_time": "2023-08-04T09:40:30.956614Z"
    }
   }
  },
  {
   "cell_type": "code",
   "execution_count": 7,
   "outputs": [],
   "source": [
    "reports_codes = reports['code'].tolist()\n",
    "reports_codes_stored = report_data_container.reports_codes_stored()\n",
    "reports_codes_to_request = [code for code in reports_codes if code not in reports_codes_stored]"
   ],
   "metadata": {
    "collapsed": false,
    "ExecuteTime": {
     "end_time": "2023-08-04T09:40:30.973849100Z",
     "start_time": "2023-08-04T09:40:30.959592800Z"
    }
   }
  },
  {
   "cell_type": "code",
   "execution_count": 8,
   "outputs": [],
   "source": [
    "for code in reports_codes_to_request:\n",
    "    report_data_json = wl.query_report(code=code, client=client)['data']['reportData']['report']\n",
    "    report_data_container.store(content=report_data_json, custom_filename=code)"
   ],
   "metadata": {
    "collapsed": false,
    "ExecuteTime": {
     "end_time": "2023-08-04T09:40:35.132342800Z",
     "start_time": "2023-08-04T09:40:30.975887700Z"
    }
   }
  }
 ],
 "metadata": {
  "kernelspec": {
   "display_name": "Python 3",
   "language": "python",
   "name": "python3"
  },
  "language_info": {
   "codemirror_mode": {
    "name": "ipython",
    "version": 2
   },
   "file_extension": ".py",
   "mimetype": "text/x-python",
   "name": "python",
   "nbconvert_exporter": "python",
   "pygments_lexer": "ipython2",
   "version": "2.7.6"
  }
 },
 "nbformat": 4,
 "nbformat_minor": 0
}

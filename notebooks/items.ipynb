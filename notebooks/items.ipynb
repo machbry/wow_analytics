{
 "cells": [
  {
   "cell_type": "code",
   "execution_count": 1,
   "metadata": {
    "collapsed": true,
    "pycharm": {
     "name": "#%%\n"
    }
   },
   "outputs": [],
   "source": [
    "import wlogs as wl"
   ]
  },
  {
   "cell_type": "code",
   "execution_count": 2,
   "outputs": [
    {
     "data": {
      "text/plain": "{'id': 40418, 'name': 'Valorous Frostfire Robe'}"
     },
     "execution_count": 2,
     "metadata": {},
     "output_type": "execute_result"
    }
   ],
   "source": [
    "id = 40418\n",
    "wl.query_item(id=id)['data']['gameData']['item']"
   ],
   "metadata": {
    "collapsed": false,
    "pycharm": {
     "name": "#%%\n"
    }
   }
  },
  {
   "cell_type": "code",
   "execution_count": 3,
   "outputs": [],
   "source": [
    "import luadata\n",
    "\n",
    "with open(\"../data/Bistooltip_wh_items.lua\", 'r') as f:\n",
    "    lines = f.readlines()"
   ],
   "metadata": {
    "collapsed": false,
    "pycharm": {
     "name": "#%%\n"
    }
   }
  },
  {
   "cell_type": "code",
   "execution_count": 4,
   "outputs": [],
   "source": [
    "lines_cleaned = []\n",
    "db_lines = lines[1::]\n",
    "N = len(db_lines)\n",
    "for i, line in enumerate(db_lines):\n",
    "    start = '{' if i == 0 else ''\n",
    "    end = \"}\" if i == N-1 else \", \"\n",
    "    lines_cleaned.append(line.replace('Bistooltip_wh_items', start).replace(\"\\n\", end))\n",
    "\n",
    "with open(\"../data/clean_db.lua\", 'w') as f:\n",
    "    f.writelines(lines_cleaned)"
   ],
   "metadata": {
    "collapsed": false,
    "pycharm": {
     "name": "#%%\n"
    }
   }
  },
  {
   "cell_type": "code",
   "execution_count": 5,
   "outputs": [],
   "source": [
    "data = luadata.read(\"../data/clean_db.lua\")"
   ],
   "metadata": {
    "collapsed": false,
    "pycharm": {
     "name": "#%%\n"
    }
   }
  },
  {
   "cell_type": "code",
   "execution_count": 6,
   "outputs": [
    {
     "data": {
      "text/plain": "[{'class_name': 'Mage',\n  'spec_name': 'Arcane',\n  'slots': [{'name': 'Chest', 'ranks': '- / 1 / 6'}]},\n {'class_name': 'Mage',\n  'spec_name': 'Fire',\n  'slots': [{'name': 'Chest', 'ranks': '- / 1 / 3'}]},\n {'class_name': 'Mage',\n  'spec_name': 'Frost',\n  'slots': [{'name': 'Chest', 'ranks': '- / 1 / 6'}]}]"
     },
     "execution_count": 6,
     "metadata": {},
     "output_type": "execute_result"
    }
   ],
   "source": [
    "data[id]"
   ],
   "metadata": {
    "collapsed": false,
    "pycharm": {
     "name": "#%%\n"
    }
   }
  }
 ],
 "metadata": {
  "kernelspec": {
   "display_name": "Python 3",
   "language": "python",
   "name": "python3"
  },
  "language_info": {
   "codemirror_mode": {
    "name": "ipython",
    "version": 2
   },
   "file_extension": ".py",
   "mimetype": "text/x-python",
   "name": "python",
   "nbconvert_exporter": "python",
   "pygments_lexer": "ipython2",
   "version": "2.7.6"
  }
 },
 "nbformat": 4,
 "nbformat_minor": 0
}
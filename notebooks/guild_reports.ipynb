{
 "cells": [
  {
   "cell_type": "code",
   "execution_count": 1,
   "metadata": {
    "collapsed": true,
    "ExecuteTime": {
     "end_time": "2023-08-22T14:53:50.473137Z",
     "start_time": "2023-08-22T14:53:49.461056600Z"
    }
   },
   "outputs": [],
   "source": [
    "import wlogs as wl"
   ]
  },
  {
   "cell_type": "code",
   "execution_count": 2,
   "outputs": [],
   "source": [
    "guild = wl.GUILD_ID\n",
    "reports_containers = wl.ReportsContainer()"
   ],
   "metadata": {
    "collapsed": false,
    "ExecuteTime": {
     "end_time": "2023-08-22T14:53:50.489147400Z",
     "start_time": "2023-08-22T14:53:50.475135500Z"
    }
   }
  },
  {
   "cell_type": "code",
   "execution_count": 3,
   "outputs": [
    {
     "name": "stdout",
     "output_type": "stream",
     "text": [
      "Access token retrieved.\n"
     ]
    }
   ],
   "source": [
    "page = 1\n",
    "responses = {}\n",
    "has_more_pages = True\n",
    "while has_more_pages:\n",
    "    responses[page] = wl.query_reports_on_page(guild_id=guild, page=page)\n",
    "    has_more_pages = responses[page]['data']['reportData']['reports']['has_more_pages']\n",
    "    page +=1\n",
    "\n",
    "guild_reports_json = []\n",
    "for response in responses.values():\n",
    "    guild_reports_json = guild_reports_json + response['data']['reportData']['reports']['data']"
   ],
   "metadata": {
    "collapsed": false,
    "ExecuteTime": {
     "end_time": "2023-08-22T14:53:58.484041100Z",
     "start_time": "2023-08-22T14:53:50.491148800Z"
    }
   }
  },
  {
   "cell_type": "code",
   "execution_count": 4,
   "outputs": [],
   "source": [
    "reports_containers.store(content=guild_reports_json)"
   ],
   "metadata": {
    "collapsed": false,
    "ExecuteTime": {
     "end_time": "2023-08-22T14:53:58.519085600Z",
     "start_time": "2023-08-22T14:53:58.485041300Z"
    }
   }
  }
 ],
 "metadata": {
  "kernelspec": {
   "display_name": "Python 3",
   "language": "python",
   "name": "python3"
  },
  "language_info": {
   "codemirror_mode": {
    "name": "ipython",
    "version": 2
   },
   "file_extension": ".py",
   "mimetype": "text/x-python",
   "name": "python",
   "nbconvert_exporter": "python",
   "pygments_lexer": "ipython2",
   "version": "2.7.6"
  }
 },
 "nbformat": 4,
 "nbformat_minor": 0
}

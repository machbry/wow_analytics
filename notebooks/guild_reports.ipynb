{
 "cells": [
  {
   "cell_type": "code",
   "execution_count": 1,
   "metadata": {
    "collapsed": true,
    "ExecuteTime": {
     "end_time": "2023-08-04T09:37:05.260034200Z",
     "start_time": "2023-08-04T09:37:04.731124800Z"
    }
   },
   "outputs": [],
   "source": [
    "import wlogs as wl"
   ]
  },
  {
   "cell_type": "code",
   "execution_count": 2,
   "outputs": [
    {
     "name": "stdout",
     "output_type": "stream",
     "text": [
      "Access token retrieved.\n"
     ]
    }
   ],
   "source": [
    "guild = wl.GUILD_ID\n",
    "reports_containers = wl.ReportsContainer()\n",
    "client = wl.graphQL_client_from_json()"
   ],
   "metadata": {
    "collapsed": false,
    "ExecuteTime": {
     "end_time": "2023-08-04T09:37:06.007595700Z",
     "start_time": "2023-08-04T09:37:05.261172100Z"
    }
   }
  },
  {
   "cell_type": "code",
   "execution_count": 3,
   "outputs": [],
   "source": [
    "page = 1\n",
    "responses = {}\n",
    "has_more_pages = True\n",
    "while has_more_pages:\n",
    "    responses[page] = wl.query_reports_on_page(guild_id=guild, page=page, client=client)\n",
    "    has_more_pages = responses[page]['data']['reportData']['reports']['has_more_pages']\n",
    "    page +=1\n",
    "\n",
    "guild_reports_json = []\n",
    "for response in responses.values():\n",
    "    guild_reports_json = guild_reports_json + response['data']['reportData']['reports']['data']"
   ],
   "metadata": {
    "collapsed": false,
    "ExecuteTime": {
     "end_time": "2023-08-04T09:37:12.153451600Z",
     "start_time": "2023-08-04T09:37:06.009594300Z"
    }
   }
  },
  {
   "cell_type": "code",
   "execution_count": 4,
   "outputs": [],
   "source": [
    "reports_containers.store(content=guild_reports_json)"
   ],
   "metadata": {
    "collapsed": false,
    "ExecuteTime": {
     "end_time": "2023-08-04T09:37:12.184958800Z",
     "start_time": "2023-08-04T09:37:12.153451600Z"
    }
   }
  }
 ],
 "metadata": {
  "kernelspec": {
   "display_name": "Python 3",
   "language": "python",
   "name": "python3"
  },
  "language_info": {
   "codemirror_mode": {
    "name": "ipython",
    "version": 2
   },
   "file_extension": ".py",
   "mimetype": "text/x-python",
   "name": "python",
   "nbconvert_exporter": "python",
   "pygments_lexer": "ipython2",
   "version": "2.7.6"
  }
 },
 "nbformat": 4,
 "nbformat_minor": 0
}

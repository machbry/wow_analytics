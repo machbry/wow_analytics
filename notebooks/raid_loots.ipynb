{
 "cells": [
  {
   "cell_type": "code",
   "execution_count": 1,
   "metadata": {
    "collapsed": true
   },
   "outputs": [],
   "source": [
    "import wlogs as wl\n",
    "\n",
    "import pandas as pd"
   ]
  },
  {
   "cell_type": "code",
   "execution_count": 2,
   "outputs": [],
   "source": [
    "RAID_LOOTS_CSV_PATH = 'https://thatsmybis.com/loot/table/wotlk/html'"
   ],
   "metadata": {
    "collapsed": false
   }
  },
  {
   "cell_type": "code",
   "execution_count": 3,
   "outputs": [],
   "source": [
    "raid_loots = pd.read_csv(RAID_LOOTS_CSV_PATH)\n",
    "raid_loots_container = wl.RaidLootsContainer()"
   ],
   "metadata": {
    "collapsed": false
   }
  },
  {
   "cell_type": "code",
   "execution_count": 3,
   "outputs": [],
   "source": [
    "# TODO : add conf file to categorize source by extension & phase"
   ],
   "metadata": {
    "collapsed": false
   }
  },
  {
   "cell_type": "code",
   "execution_count": 4,
   "outputs": [],
   "source": [
    "raid_loots_container.store(raid_loots)"
   ],
   "metadata": {
    "collapsed": false
   }
  },
  {
   "cell_type": "code",
   "execution_count": 5,
   "outputs": [],
   "source": [
    "df = raid_loots_container.extract()"
   ],
   "metadata": {
    "collapsed": false
   }
  },
  {
   "cell_type": "code",
   "execution_count": 7,
   "outputs": [
    {
     "data": {
      "text/plain": "instance_name\nBlack Temple                 139\nBlackwing Lair               133\nEye of Eternity N10           12\nEye of Eternity N25           21\nGruul's Lair                  25\nHyjal Summit                  86\nIcecrown Citadel H10         158\nIcecrown Citadel H25         180\nIcecrown Citadel N10         150\nIcecrown Citadel N25         165\nKarazhan                     166\nMagtheridon's Lair            17\nMolten Core                  155\nNaxxramas                    167\nNaxxramas N10                191\nNaxxramas N25                364\nObsidian Sanctum N10          21\nObsidian Sanctum N25          26\nOnyxia's Lair                 19\nRuby Sanctum H10              12\nRuby Sanctum H25              16\nRuby Sanctum N10              12\nRuby Sanctum N25              16\nRuins of Ahn'Qiraj            73\nSerpentshrine Cavern          96\nSunwell Plateau              138\nTempest Keep                  76\nTemple of Ahn'Qiraj          143\nTrial of the Crusader H10    139\nTrial of the Crusader H25    128\nTrial of the Crusader N10    120\nTrial of the Crusader N25    130\nUlduar N10                   220\nUlduar N25                   266\nVault of Archavon N10        493\nVault of Archavon N25        494\nWorld Bosses                  74\nZul'Aman                      76\nZul'Gurub                    116\nName: item_id, dtype: int64"
     },
     "execution_count": 7,
     "metadata": {},
     "output_type": "execute_result"
    }
   ],
   "source": [
    "df.groupby(by=['instance_name']).item_id.count()"
   ],
   "metadata": {
    "collapsed": false
   }
  },
  {
   "cell_type": "code",
   "execution_count": 9,
   "outputs": [
    {
     "data": {
      "text/plain": "source_name\nArchavon    210\nEmalon      233\nKoralon     310\nToravon     234\nName: item_id, dtype: int64"
     },
     "execution_count": 9,
     "metadata": {},
     "output_type": "execute_result"
    }
   ],
   "source": [
    "df[df['instance_name'].isin(['Vault of Archavon N10', 'Vault of Archavon N25'])].groupby(by='source_name').item_id.count()"
   ],
   "metadata": {
    "collapsed": false
   }
  },
  {
   "cell_type": "code",
   "execution_count": null,
   "outputs": [],
   "source": [],
   "metadata": {
    "collapsed": false
   }
  }
 ],
 "metadata": {
  "kernelspec": {
   "display_name": "Python 3",
   "language": "python",
   "name": "python3"
  },
  "language_info": {
   "codemirror_mode": {
    "name": "ipython",
    "version": 2
   },
   "file_extension": ".py",
   "mimetype": "text/x-python",
   "name": "python",
   "nbconvert_exporter": "python",
   "pygments_lexer": "ipython2",
   "version": "2.7.6"
  }
 },
 "nbformat": 4,
 "nbformat_minor": 0
}

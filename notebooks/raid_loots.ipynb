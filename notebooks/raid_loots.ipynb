{
 "cells": [
  {
   "cell_type": "code",
   "execution_count": 1,
   "metadata": {
    "collapsed": true
   },
   "outputs": [],
   "source": [
    "import wlogs as wl\n",
    "\n",
    "import pandas as pd"
   ]
  },
  {
   "cell_type": "code",
   "execution_count": 2,
   "outputs": [],
   "source": [
    "raid_loots_container = wl.RaidLootsContainer()"
   ],
   "metadata": {
    "collapsed": false
   }
  },
  {
   "cell_type": "code",
   "execution_count": 3,
   "outputs": [],
   "source": [
    "RAID_LOOTS_CSV_PATH = 'https://thatsmybis.com/loot/table/wotlk/html'\n",
    "raid_loots = pd.read_csv(RAID_LOOTS_CSV_PATH)"
   ],
   "metadata": {
    "collapsed": false
   }
  },
  {
   "cell_type": "code",
   "execution_count": 4,
   "outputs": [],
   "source": [
    "LK_instance_names = [\n",
    "    'Eye of Eternity N10',\n",
    "    'Eye of Eternity N25',\n",
    "    'Icecrown Citadel H10',\n",
    "    'Icecrown Citadel H25',\n",
    "    'Icecrown Citadel N10',\n",
    "    'Icecrown Citadel N25',\n",
    "    'Naxxramas N10',\n",
    "    'Naxxramas N25',\n",
    "    'Obsidian Sanctum N10',\n",
    "    'Obsidian Sanctum N25',\n",
    "    'Ruby Sanctum H10',\n",
    "    'Ruby Sanctum H25',\n",
    "    'Ruby Sanctum N10',\n",
    "    'Ruby Sanctum N25',\n",
    "    'Trial of the Crusader H10',\n",
    "    'Trial of the Crusader H25',\n",
    "    'Trial of the Crusader N10',\n",
    "    'Trial of the Crusader N25',\n",
    "    'Ulduar N10',\n",
    "    'Ulduar N25',\n",
    "    'Vault of Archavon N10',\n",
    "    'Vault of Archavon N25',\n",
    "    ]"
   ],
   "metadata": {
    "collapsed": false
   }
  },
  {
   "cell_type": "code",
   "execution_count": 5,
   "outputs": [],
   "source": [
    "raid_loots = raid_loots[raid_loots['instance_name'].isin(LK_instance_names)]"
   ],
   "metadata": {
    "collapsed": false
   }
  },
  {
   "cell_type": "code",
   "execution_count": 6,
   "outputs": [],
   "source": [
    "raid_loots_container.store(raid_loots)"
   ],
   "metadata": {
    "collapsed": false
   }
  },
  {
   "cell_type": "code",
   "execution_count": 7,
   "outputs": [],
   "source": [
    "df = raid_loots_container.extract()"
   ],
   "metadata": {
    "collapsed": false
   }
  }
 ],
 "metadata": {
  "kernelspec": {
   "display_name": "Python 3",
   "language": "python",
   "name": "python3"
  },
  "language_info": {
   "codemirror_mode": {
    "name": "ipython",
    "version": 2
   },
   "file_extension": ".py",
   "mimetype": "text/x-python",
   "name": "python",
   "nbconvert_exporter": "python",
   "pygments_lexer": "ipython2",
   "version": "2.7.6"
  }
 },
 "nbformat": 4,
 "nbformat_minor": 0
}
